{
  "nbformat": 4,
  "nbformat_minor": 0,
  "metadata": {
    "colab": {
      "provenance": [],
      "authorship_tag": "ABX9TyPZnLcpVz+CYYSv/W4kBAF9",
      "include_colab_link": true
    },
    "kernelspec": {
      "name": "python3",
      "display_name": "Python 3"
    },
    "language_info": {
      "name": "python"
    }
  },
  "cells": [
    {
      "cell_type": "markdown",
      "metadata": {
        "id": "view-in-github",
        "colab_type": "text"
      },
      "source": [
        "<a href=\"https://colab.research.google.com/github/QASIM-ALI-110/CHAT_QUESTIONS_PRACTICE/blob/main/check_the_number_is_odd_or_even.ipynb\" target=\"_parent\"><img src=\"https://colab.research.google.com/assets/colab-badge.svg\" alt=\"Open In Colab\"/></a>"
      ]
    },
    {
      "cell_type": "code",
      "execution_count": 2,
      "metadata": {
        "colab": {
          "base_uri": "https://localhost:8080/"
        },
        "id": "753dCnVH5PTV",
        "outputId": "b9111422-1bb5-4999-a2c3-abbc4f727811"
      },
      "outputs": [
        {
          "output_type": "stream",
          "name": "stdout",
          "text": [
            "enter a number2\n",
            "number is even\n"
          ]
        }
      ],
      "source": [
        "#check the number is odd or even\n",
        "\n",
        "user_input=int(input(\"enter a number\"))\n",
        "\n",
        "if user_input % 2 == 0:\n",
        "    print(\"number is even\")\n",
        "\n",
        "else:\n",
        "    print(\"number is odd\")"
      ]
    }
  ]
}