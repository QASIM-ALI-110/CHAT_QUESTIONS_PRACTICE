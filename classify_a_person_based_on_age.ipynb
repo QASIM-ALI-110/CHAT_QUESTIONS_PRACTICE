{
  "nbformat": 4,
  "nbformat_minor": 0,
  "metadata": {
    "colab": {
      "provenance": [],
      "authorship_tag": "ABX9TyOHsrqjluwEDRz37k9ur+yK",
      "include_colab_link": true
    },
    "kernelspec": {
      "name": "python3",
      "display_name": "Python 3"
    },
    "language_info": {
      "name": "python"
    }
  },
  "cells": [
    {
      "cell_type": "markdown",
      "metadata": {
        "id": "view-in-github",
        "colab_type": "text"
      },
      "source": [
        "<a href=\"https://colab.research.google.com/github/QASIM-ALI-110/CHAT_QUESTIONS_PRACTICE/blob/main/classify_a_person_based_on_age.ipynb\" target=\"_parent\"><img src=\"https://colab.research.google.com/assets/colab-badge.svg\" alt=\"Open In Colab\"/></a>"
      ]
    },
    {
      "cell_type": "code",
      "execution_count": null,
      "metadata": {
        "colab": {
          "base_uri": "https://localhost:8080/"
        },
        "id": "9EdB3tJ0FhiI",
        "outputId": "f991fbdd-f29f-4192-fce1-d4526c666f7e"
      },
      "outputs": [
        {
          "output_type": "stream",
          "name": "stdout",
          "text": [
            "enter your age2\n",
            "child\n"
          ]
        }
      ],
      "source": [
        "#Classify a person based on age:\n",
        "#0-12: Child\n",
        "#13-19: Teenager\n",
        "#20-59: Adult\n",
        "#60+: Senior Citizen\n",
        "\n",
        "child=0-12\n",
        "teenager=13-19\n",
        "adult=20-59\n",
        "senior=+60\n",
        "\n",
        "user_input=int(input(\"enter your age\"))\n",
        "\n",
        "if user_input in range (0,12):\n",
        "    print('child')\n",
        "\n",
        "elif user_input in range (13,19):\n",
        "    print('Teenager')\n",
        "\n",
        "elif user_input in range (20,59):\n",
        "    print('adult')\n",
        "\n",
        "else:\n",
        "    print('senior')"
      ]
    }
  ]
}