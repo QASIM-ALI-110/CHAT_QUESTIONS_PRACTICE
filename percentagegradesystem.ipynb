{
  "nbformat": 4,
  "nbformat_minor": 0,
  "metadata": {
    "colab": {
      "provenance": [],
      "authorship_tag": "ABX9TyN3z4HvfzBBbH8EFPfLzIhp",
      "include_colab_link": true
    },
    "kernelspec": {
      "name": "python3",
      "display_name": "Python 3"
    },
    "language_info": {
      "name": "python"
    }
  },
  "cells": [
    {
      "cell_type": "markdown",
      "metadata": {
        "id": "view-in-github",
        "colab_type": "text"
      },
      "source": [
        "<a href=\"https://colab.research.google.com/github/QASIM-ALI-110/CHAT_QUESTIONS_PRACTICE/blob/main/percentagegradesystem.ipynb\" target=\"_parent\"><img src=\"https://colab.research.google.com/assets/colab-badge.svg\" alt=\"Open In Colab\"/></a>"
      ]
    },
    {
      "cell_type": "code",
      "execution_count": 1,
      "metadata": {
        "colab": {
          "base_uri": "https://localhost:8080/"
        },
        "id": "AGFcqbqylWXL",
        "outputId": "51e1d3e5-83fa-4e5f-a577-d3d944a663c5"
      },
      "outputs": [
        {
          "output_type": "stream",
          "name": "stdout",
          "text": [
            "ENTER YOUR PERCENTAGE PLEASE = 78\n",
            "GRADE (B+)\n"
          ]
        }
      ],
      "source": [
        "#GRADE SYSTEM\n",
        "\n",
        "user_input=int(input(\"ENTER YOUR PERCENTAGE PLEASE = \"))\n",
        "\n",
        "if user_input >= 90:\n",
        "    print(\"GRADE (A+)\")\n",
        "\n",
        "elif user_input >= 80:\n",
        "    print(\"GRADE (A)\")\n",
        "\n",
        "elif user_input >= 75:\n",
        "    print(\"GRADE (B+)\")\n",
        "\n",
        "elif user_input >= 60:\n",
        "    print(\"GRADE (B)\")\n",
        "\n",
        "elif user_input >= 50:\n",
        "    print(\"GRADE (C)\")\n",
        "\n",
        "elif user_input >= 45:\n",
        "    print(\"GRADE (F)\")\n",
        "\n",
        "elif user_input <= 45:\n",
        "    print(\"FAIL\")\n",
        "\n",
        "else:\n",
        "    print(f\"YOUR GRADE ACCORDING TO YOUR PERCENTAGE IS {print}\")"
      ]
    }
  ]
}