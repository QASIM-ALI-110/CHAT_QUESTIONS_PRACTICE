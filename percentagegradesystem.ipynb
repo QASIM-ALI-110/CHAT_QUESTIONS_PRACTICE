{
  "nbformat": 4,
  "nbformat_minor": 0,
  "metadata": {
    "colab": {
      "provenance": [],
      "authorship_tag": "ABX9TyN6lnPhxdGffQiPyA1hEbMb",
      "include_colab_link": true
    },
    "kernelspec": {
      "name": "python3",
      "display_name": "Python 3"
    },
    "language_info": {
      "name": "python"
    }
  },
  "cells": [
    {
      "cell_type": "markdown",
      "metadata": {
        "id": "view-in-github",
        "colab_type": "text"
      },
      "source": [
        "<a href=\"https://colab.research.google.com/github/QASIM-ALI-110/CHAT_QUESTIONS_PRACTICE/blob/main/percentagegradesystem.ipynb\" target=\"_parent\"><img src=\"https://colab.research.google.com/assets/colab-badge.svg\" alt=\"Open In Colab\"/></a>"
      ]
    },
    {
      "cell_type": "code",
      "source": [],
      "metadata": {
        "id": "rSXC_8aKbcNN"
      },
      "execution_count": null,
      "outputs": []
    },
    {
      "cell_type": "code",
      "execution_count": null,
      "metadata": {
        "colab": {
          "base_uri": "https://localhost:8080/"
        },
        "id": "AGFcqbqylWXL",
        "outputId": "07d7dedb-70c3-4728-9b91-ce107eb2f33d"
      },
      "outputs": [
        {
          "output_type": "stream",
          "name": "stdout",
          "text": [
            "ENTER YOUR PERCENTAGE PLEASE = 55\n",
            "GRADE (C)\n",
            "ENTER YOUR PERCENTAGE PLEASE88\n",
            "88\n",
            "ENTER YOUR PERCENTAGE PLEASE77\n",
            "77\n"
          ]
        }
      ],
      "source": [
        "#GRADE SYSTEM\n",
        "\n",
        "user_input=int(input(\"ENTER YOUR PERCENTAGE PLEASE = \"))\n",
        "\n",
        "\n",
        "\n",
        "if user_input >= 90:\n",
        "    print(\"GRADE (A+)\")\n",
        "\n",
        "elif user_input >= 80:\n",
        "    print(\"GRADE (A)\")\n",
        "\n",
        "elif user_input >= 75:\n",
        "    print(\"GRADE (B+)\")\n",
        "\n",
        "elif user_input >= 60:\n",
        "    print(\"GRADE (B)\")\n",
        "\n",
        "elif user_input >= 50:\n",
        "    print(\"GRADE (C)\")\n",
        "\n",
        "elif user_input >= 45:\n",
        "    print(\"GRADE (F)\")\n",
        "\n",
        "elif user_input <= 45:\n",
        "    print(\"FAIL\")\n",
        "\n",
        "else:\n",
        "    print(f\"YOUR GRADE ACCORDING TO YOUR PERCENTAGE IS {print}\")\n",
        "\n",
        "while True:\n",
        "  choice=input(\"do you want to continue? (yes/no):\")\n",
        "  if choice == \"no\":\n",
        "    break"
      ]
    }
  ]
}