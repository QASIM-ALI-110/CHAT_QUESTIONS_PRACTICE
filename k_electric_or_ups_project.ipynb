{
  "nbformat": 4,
  "nbformat_minor": 0,
  "metadata": {
    "colab": {
      "provenance": [],
      "authorship_tag": "ABX9TyOhgtS3POoBx2pkaJ8fj6Vu",
      "include_colab_link": true
    },
    "kernelspec": {
      "name": "python3",
      "display_name": "Python 3"
    },
    "language_info": {
      "name": "python"
    }
  },
  "cells": [
    {
      "cell_type": "markdown",
      "metadata": {
        "id": "view-in-github",
        "colab_type": "text"
      },
      "source": [
        "<a href=\"https://colab.research.google.com/github/QASIM-ALI-110/CHAT_QUESTIONS_PRACTICE/blob/main/k_electric_or_ups_project.ipynb\" target=\"_parent\"><img src=\"https://colab.research.google.com/assets/colab-badge.svg\" alt=\"Open In Colab\"/></a>"
      ]
    },
    {
      "cell_type": "code",
      "source": [
        "electric='yes'\n",
        "ups='no'\n",
        "\n",
        "press_button=input(\"enter 'yes'or'no':\")\n",
        "\n",
        "if press_button=='yes':\n",
        "  print(\"electricity available ups off\")\n",
        "elif press_button=='no':\n",
        "  print(\"electric not available ups on\")"
      ],
      "metadata": {
        "colab": {
          "base_uri": "https://localhost:8080/"
        },
        "id": "gbgZbLGewP93",
        "outputId": "89aa2430-2d1c-4df8-c565-a2f878a6241c"
      },
      "execution_count": 19,
      "outputs": [
        {
          "output_type": "stream",
          "name": "stdout",
          "text": [
            "enter 'yes'or'no':no\n",
            "electric not available ups on\n"
          ]
        }
      ]
    },
    {
      "cell_type": "code",
      "source": [],
      "metadata": {
        "id": "NILntLYT09MU"
      },
      "execution_count": null,
      "outputs": []
    }
  ]
}