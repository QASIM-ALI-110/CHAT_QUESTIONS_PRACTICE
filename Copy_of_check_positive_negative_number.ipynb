{
  "nbformat": 4,
  "nbformat_minor": 0,
  "metadata": {
    "colab": {
      "provenance": [],
      "authorship_tag": "ABX9TyNp4w43B2uXBqxP6vFlDAL/",
      "include_colab_link": true
    },
    "kernelspec": {
      "name": "python3",
      "display_name": "Python 3"
    },
    "language_info": {
      "name": "python"
    }
  },
  "cells": [
    {
      "cell_type": "markdown",
      "metadata": {
        "id": "view-in-github",
        "colab_type": "text"
      },
      "source": [
        "<a href=\"https://colab.research.google.com/github/QASIM-ALI-110/CHAT_QUESTIONS_PRACTICE/blob/main/Copy_of_check_positive_negative_number.ipynb\" target=\"_parent\"><img src=\"https://colab.research.google.com/assets/colab-badge.svg\" alt=\"Open In Colab\"/></a>"
      ]
    },
    {
      "cell_type": "code",
      "execution_count": null,
      "metadata": {
        "colab": {
          "base_uri": "https://localhost:8080/"
        },
        "id": "RYHunSVZ3fXr",
        "outputId": "e58ff8ce-7dc3-43d9-c8ee-a18d7440c0e4"
      },
      "outputs": [
        {
          "output_type": "stream",
          "name": "stdout",
          "text": [
            "enter a number-9\n",
            "negative\n"
          ]
        }
      ],
      "source": [
        "# check positive negative number\n",
        "\n",
        "user_input= int(input(\"enter a number\"))\n",
        "\n",
        "\n",
        "if user_input > 0:\n",
        "    print(\"positive\")\n",
        "\n",
        "else:\n",
        "    print(\"negative\")"
      ]
    }
  ]
}