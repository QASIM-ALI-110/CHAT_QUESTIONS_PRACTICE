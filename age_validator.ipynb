{
  "nbformat": 4,
  "nbformat_minor": 0,
  "metadata": {
    "colab": {
      "provenance": [],
      "authorship_tag": "ABX9TyPDT1BGhp+Ogkjz93IxE1F2",
      "include_colab_link": true
    },
    "kernelspec": {
      "name": "python3",
      "display_name": "Python 3"
    },
    "language_info": {
      "name": "python"
    }
  },
  "cells": [
    {
      "cell_type": "markdown",
      "metadata": {
        "id": "view-in-github",
        "colab_type": "text"
      },
      "source": [
        "<a href=\"https://colab.research.google.com/github/QASIM-ALI-110/CHAT_QUESTIONS_PRACTICE/blob/main/age_validator.ipynb\" target=\"_parent\"><img src=\"https://colab.research.google.com/assets/colab-badge.svg\" alt=\"Open In Colab\"/></a>"
      ]
    },
    {
      "cell_type": "code",
      "execution_count": 2,
      "metadata": {
        "colab": {
          "base_uri": "https://localhost:8080/"
        },
        "id": "fRtWpyfO_2DA",
        "outputId": "2f09bc74-637c-47ea-a02b-e3aa6144d1d5"
      },
      "outputs": [
        {
          "output_type": "stream",
          "name": "stdout",
          "text": [
            "enter your age55\n",
            "YOR ARE ELIGIBLE\n"
          ]
        }
      ],
      "source": [
        "#age validator\n",
        "\n",
        "voter=int(input(\"enter your age\"))\n",
        "\n",
        "if voter >=18:\n",
        "    print(\"YOR ARE ELIGIBLE\")\n",
        "\n",
        "else:\n",
        "    print(\"YOU ARE NOT ELIGIBLE\")"
      ]
    }
  ]
}